{
  "nbformat": 4,
  "nbformat_minor": 0,
  "metadata": {
    "colab": {
      "provenance": []
    },
    "kernelspec": {
      "name": "python3",
      "display_name": "Python 3"
    },
    "language_info": {
      "name": "python"
    }
  },
  "cells": [
    {
      "cell_type": "markdown",
      "source": [
        "1) What are the types of Applications?\n",
        "\n",
        "There are several types of applications developed using programming, including:\n",
        "\n",
        "Web Applications (e.g., online shopping websites)\n",
        "\n",
        "Desktop Applications (e.g., Notepad, MS Office)\n",
        "\n",
        "Mobile Applications (e.g., WhatsApp, Instagram)\n",
        "\n",
        "Game Applications (e.g., PUBG, Minecraft)\n",
        "\n",
        "Enterprise Applications (e.g., ERP, CRM systems)\n",
        "\n",
        "Scientific and Numeric Applications (e.g., simulations, data analysis tools)\n",
        "\n",
        "## AI/ML Applications (e.g., face recognition, recommendation systems)\n",
        "\n",
        "\n",
        "\n",
        "\n",
        "\n",
        "\n"
      ],
      "metadata": {
        "id": "1M8D_q5AY1xh"
      }
    },
    {
      "cell_type": "markdown",
      "source": [
        "2) What is programming?\n",
        "\n",
        "Programming is the process of creating a set of instructions that tell a computer how to perform a task. It involves writing code in a programming language to develop software, applications, and systems.\n"
      ],
      "metadata": {
        "id": "ap36Stf0ZHPq"
      }
    },
    {
      "cell_type": "markdown",
      "source": [
        "3) What is Python?\n",
        "\n",
        "Python is a high-level, interpreted, and general-purpose programming language known for its simplicity and readability. It supports multiple programming paradigms and is widely used in web development, data science, AI/ML, automation, and more."
      ],
      "metadata": {
        "id": "vQGGA4xvZ11w"
      }
    },
    {
      "cell_type": "markdown",
      "source": [],
      "metadata": {
        "id": "JRLKVl_lZ-qQ"
      }
    },
    {
      "cell_type": "markdown",
      "source": [
        "4) Python program to check if a number is positive, negative or zero:\n",
        "python\n"
      ],
      "metadata": {
        "id": "N2zoZ9cBZU6Y"
      }
    },
    {
      "cell_type": "code",
      "execution_count": null,
      "metadata": {
        "id": "bU72ItMFYz6e"
      },
      "outputs": [],
      "source": [
        "num = float(input(\"Enter a number: \"))\n",
        "if num > 0:\n",
        "    print(\"Positive number\")\n",
        "elif num == 0:\n",
        "    print(\"Zero\")\n",
        "else:\n",
        "    print(\"Negative number\")"
      ]
    },
    {
      "cell_type": "markdown",
      "source": [
        "5) Python program to get the Factorial number of given numbers:\n",
        "python\n"
      ],
      "metadata": {
        "id": "Q1-FXD_aampk"
      }
    },
    {
      "cell_type": "code",
      "source": [
        "def factorial(n):\n",
        "    if n == 0:\n",
        "        return 1\n",
        "    else:\n",
        "        return n * factorial(n-1)\n",
        "\n",
        "num = int(input(\"Enter a number: \"))\n",
        "print(\"Factorial is\", factorial(num))\n"
      ],
      "metadata": {
        "id": "5k5dDEh3a3x_"
      },
      "execution_count": null,
      "outputs": []
    },
    {
      "cell_type": "markdown",
      "source": [
        "6) Python program to get the Fibonacci series of given range:\n",
        "python"
      ],
      "metadata": {
        "id": "_KVkntXIauIt"
      }
    },
    {
      "cell_type": "code",
      "source": [
        "n = int(input(\"Enter range: \"))\n",
        "a, b = 0, 1\n",
        "print(\"Fibonacci Series:\")\n",
        "for _ in range(n):\n",
        "    print(a, end=' ')\n",
        "    a, b = b, a + b\n"
      ],
      "metadata": {
        "id": "2tRlgv1EbMhR"
      },
      "execution_count": null,
      "outputs": []
    },
    {
      "cell_type": "markdown",
      "source": [
        "7) How memory is managed in Python?\n",
        "Python uses:\n",
        "\n",
        "\n",
        "Reference Counting to keep track of object references.\n",
        "\n",
        "Garbage Collection for cyclic references.\n",
        "\n",
        "Private heap space for storing objects and data structures.\n",
        "\n",
        "Memory managers and allocators internally handle allocation/deallocation.\n",
        "\n"
      ],
      "metadata": {
        "id": "KTnv4wKcbKyD"
      }
    },
    {
      "cell_type": "markdown",
      "source": [
        "8) What is the purpose of the continue statement in Python?\n",
        "\n",
        "The continue statement skips the current iteration of a loop and proceeds to the next one. It is used when you want to skip certain conditions without exiting the loop."
      ],
      "metadata": {
        "id": "qwIIBCgsboL-"
      }
    },
    {
      "cell_type": "markdown",
      "source": [],
      "metadata": {
        "id": "t6r-YfKqb4cn"
      }
    },
    {
      "cell_type": "markdown",
      "source": [
        "9) Python program to swap two numbers with and without temp variable:\n",
        "With temp:\n"
      ],
      "metadata": {
        "id": "VeSr2bRCZvoA"
      }
    },
    {
      "cell_type": "code",
      "source": [
        "a = 5\n",
        "b = 10\n",
        "temp = a\n",
        "a = b\n",
        "b = temp\n",
        "print(a, b)\n",
        "#Without temp:\n",
        "\n",
        "a = 5\n",
        "b = 10\n",
        "a, b = b, a\n",
        "print(a, b)"
      ],
      "metadata": {
        "id": "OdYNt123cGaa"
      },
      "execution_count": null,
      "outputs": []
    },
    {
      "cell_type": "markdown",
      "source": [
        "10) Python program to find whether a given number is even or odd:\n",
        "python"
      ],
      "metadata": {
        "id": "UYF5hYRRdGdS"
      }
    },
    {
      "cell_type": "code",
      "source": [
        "num = int(input(\"Enter a number: \"))\n",
        "if num % 2 == 0:\n",
        "    print(\"Even number\")\n",
        "else:\n",
        "    print(\"Odd number\")\n",
        "def is_vowel(letter):\n",
        "    vowels = 'aeiouAEIOU'\n",
        "    return letter in vowels\n",
        "\n",
        "\n",
        "print(is_vowel('a'))\n",
        "print(is_vowel('b'))\n",
        "\n"
      ],
      "metadata": {
        "id": "szeT3fWzdKSv"
      },
      "execution_count": null,
      "outputs": []
    },
    {
      "cell_type": "markdown",
      "source": [
        "Q11) Write a Python program to test whether a passed letter is a vowel or not."
      ],
      "metadata": {
        "id": "WM1iULdhdHvb"
      }
    },
    {
      "cell_type": "code",
      "source": [
        "def is_vowel(letter):\n",
        "    vowels = 'aeiouAEIOU'\n",
        "    if letter in vowels:\n",
        "        return True\n",
        "    else:\n",
        "        return False\n",
        "\n",
        "# Taking input from the user\n",
        "char = input(\"Enter a letter: \")\n",
        "\n",
        "if len(char) == 1 and char.isalpha():\n",
        "    if is_vowel(char):\n",
        "        print(f\"{char} is a vowel.\")\n",
        "    else:\n",
        "        print(f\"{char} is not a vowel.\")\n",
        "else:\n",
        "    print(\"Please enter a single alphabet character.\")"
      ],
      "metadata": {
        "id": "2q1JAjF5ti7q"
      },
      "execution_count": null,
      "outputs": []
    },
    {
      "cell_type": "markdown",
      "source": [
        "12) Write a Python program to sum of three given integers. However, if two values are equal sum will be zero."
      ],
      "metadata": {
        "id": "2sUV2ZSOtiG8"
      }
    },
    {
      "cell_type": "code",
      "source": [
        "def sum_three(a, b, c):\n",
        "    if a == b or b == c or a == c:\n",
        "        return 0\n",
        "    return a + b + c\n",
        "\n",
        "# Example\n",
        "print(sum_three(1, 2, 3))\n",
        "print(sum_three(3, 3, 2))"
      ],
      "metadata": {
        "id": "u6k6jTDBt1dS"
      },
      "execution_count": null,
      "outputs": []
    },
    {
      "cell_type": "markdown",
      "source": [
        "13) Write a Python program that will return true if the two given integer values are equal or their sum or difference is 5.\n"
      ],
      "metadata": {
        "id": "rlPeKCq_t0Pk"
      }
    },
    {
      "cell_type": "code",
      "source": [
        "def check_numbers(a, b):\n",
        "    return a == b or abs(a - b) == 5 or (a + b) == 5\n",
        "\n",
        "\n",
        "print(check_numbers(2, 3))\n",
        "print(check_numbers(5, 5))\n",
        "print(check_numbers(7, 2))"
      ],
      "metadata": {
        "id": "_MNK2XNTuOML"
      },
      "execution_count": null,
      "outputs": []
    },
    {
      "cell_type": "markdown",
      "source": [
        "14) Write a python program to sum of the first n positive integers.\n",
        "\n"
      ],
      "metadata": {
        "id": "EHXORViquNXh"
      }
    },
    {
      "cell_type": "code",
      "source": [
        "def sum_n_numbers(n):\n",
        "    return n * (n + 1) // 2\n",
        "\n",
        "print(sum_n_numbers(5))"
      ],
      "metadata": {
        "id": "6xHVnj9hdJcX"
      },
      "execution_count": null,
      "outputs": []
    },
    {
      "cell_type": "markdown",
      "source": [
        "15) Write a Python program to calculate the length of a string."
      ],
      "metadata": {
        "id": "GimrTnG4uxWb"
      }
    },
    {
      "cell_type": "code",
      "source": [
        "def string_length(s):\n",
        "    return len(s)\n",
        "\n",
        "\n",
        "print(string_length(\"Python\"))\n"
      ],
      "metadata": {
        "id": "ffqOARK0u3VW"
      },
      "execution_count": null,
      "outputs": []
    },
    {
      "cell_type": "markdown",
      "source": [
        "16) Write a Python program to count the number of characters (character frequency) in a string."
      ],
      "metadata": {
        "id": "TPqkPR8nvDjy"
      }
    },
    {
      "cell_type": "code",
      "source": [
        "def char_frequency(s):\n",
        "    freq = {}\n",
        "    for char in s:\n",
        "        freq[char] = freq.get(char, 0) + 1\n",
        "    return freq\n",
        "\n",
        "print(char_frequency(\"hello\"))"
      ],
      "metadata": {
        "id": "QZACGJ1IvQYw"
      },
      "execution_count": null,
      "outputs": []
    },
    {
      "cell_type": "markdown",
      "source": [
        "17) What are negative indexes and why are they used?\n",
        "\n",
        "Answer:\n",
        "Negative indexing in Python means counting from the end of the list or string. For example, -1 refers to the last element, -2 refers to the second last, and so on. It's useful when you want to access elements from the end without knowing the exact length.\n"
      ],
      "metadata": {
        "id": "YlcIB3caviOp"
      }
    },
    {
      "cell_type": "markdown",
      "source": [
        "18) Write a Python program to count occurrences of a substring in a string."
      ],
      "metadata": {
        "id": "L81tKy5uvv2k"
      }
    },
    {
      "cell_type": "code",
      "source": [
        "def substring_count(string, sub):\n",
        "    return string.count(sub)\n",
        "\n",
        "\n",
        "print(substring_count(\"banana\", \"na\"))"
      ],
      "metadata": {
        "id": "ssRjz-NKwKv7"
      },
      "execution_count": null,
      "outputs": []
    },
    {
      "cell_type": "markdown",
      "source": [
        "\n",
        "19) Write a Python program to count the occurrences of each word in a given sentence.\n"
      ],
      "metadata": {
        "id": "Bnr_lFebvreA"
      }
    },
    {
      "cell_type": "code",
      "source": [
        "def word_count(sentence):\n",
        "    words = sentence.split()\n",
        "    count = {}\n",
        "    for word in words:\n",
        "        count[word] = count.get(word, 0) + 1\n",
        "    return count\n",
        "\n",
        "print(word_count(\"this is a test this is only a test\"))"
      ],
      "metadata": {
        "id": "7Lg_JEY8wndA"
      },
      "execution_count": null,
      "outputs": []
    },
    {
      "cell_type": "markdown",
      "source": [
        "20) Write a Python program to get a single string from two given strings, separated by a space and swap the first two characters of each string.\n"
      ],
      "metadata": {
        "id": "pDv2ywhlw0VB"
      }
    },
    {
      "cell_type": "code",
      "source": [
        "def mix_strings(a, b):\n",
        "    new_a = b[:2] + a[2:]\n",
        "    new_b = a[:2] + b[2:]\n",
        "    return new_a + ' ' + new_b\n",
        "\n",
        "\n",
        "print(mix_strings(\"abc\", \"xyz\"))"
      ],
      "metadata": {
        "id": "L0UnrctYvipZ"
      },
      "execution_count": null,
      "outputs": []
    },
    {
      "cell_type": "markdown",
      "source": [
        "21) Add 'ing' or 'ly' at the end of a string"
      ],
      "metadata": {
        "id": "cPD4l0GJxGpS"
      }
    },
    {
      "cell_type": "code",
      "source": [
        "def add_string(s):\n",
        "    if len(s) >= 3:\n",
        "        if s.endswith('ing'):\n",
        "            return s + 'ly'\n",
        "        else:\n",
        "            return s + 'ing'\n",
        "    return s\n",
        "\n",
        "print(add_string(\"play\"))\n",
        "print(add_string(\"playing\"))\n",
        "print(add_string(\"go\"))"
      ],
      "metadata": {
        "id": "q2_lyrFZxGPb"
      },
      "execution_count": null,
      "outputs": []
    },
    {
      "cell_type": "markdown",
      "source": [
        "22) Reverse string if length is multiple of 4\n",
        "python\n"
      ],
      "metadata": {
        "id": "OtybZ6n0xk7n"
      }
    },
    {
      "cell_type": "code",
      "source": [
        "def reverse_if_multiple_of_4(s):\n",
        "    return s[::-1] if len(s) % 4 == 0 else s\n",
        "\n",
        "print(reverse_if_multiple_of_4(\"abcd\"))\n",
        "print(reverse_if_multiple_of_4(\"hello\"))"
      ],
      "metadata": {
        "id": "thq56k1exrGW"
      },
      "execution_count": null,
      "outputs": []
    },
    {
      "cell_type": "markdown",
      "source": [
        "23) Get first 2 and last 2 characters\n"
      ],
      "metadata": {
        "id": "A_mIe4b8yDic"
      }
    },
    {
      "cell_type": "code",
      "source": [
        "def both_ends(s):\n",
        "    return s[:2] + s[-2:] if len(s) >= 2 else ''\n",
        "\n",
        "print(both_ends(\"spring\"))  # spng\n",
        "print(both_ends(\"a\"))       # (empty string)\n"
      ],
      "metadata": {
        "id": "LdX5k5eUyICH"
      },
      "execution_count": null,
      "outputs": []
    },
    {
      "cell_type": "markdown",
      "source": [
        "24) Insert string in middle of a string\n"
      ],
      "metadata": {
        "id": "kCTcF0awyS2W"
      }
    },
    {
      "cell_type": "code",
      "source": [
        "def insert_middle(s, word):\n",
        "    mid = len(s) // 2\n",
        "    return s[:mid] + word + s[mid:]\n",
        "\n",
        "print(insert_middle(\"[[]]\", \"Python\"))  # [[Python]]"
      ],
      "metadata": {
        "id": "Cpwx0zijyUSO"
      },
      "execution_count": null,
      "outputs": []
    },
    {
      "cell_type": "markdown",
      "source": [
        "25) What is List? How to reverse it?\n",
        "A list is a mutable sequence of items.\n",
        "\n",
        "Reversal:\n"
      ],
      "metadata": {
        "id": "n0jUgQFHye05"
      }
    },
    {
      "cell_type": "code",
      "source": [
        "lst = [1, 2, 3, 4]\n",
        "lst.reverse()\n",
        "print(lst)  # [4, 3, 2, 1]"
      ],
      "metadata": {
        "id": "uWnGd75vypPd"
      },
      "execution_count": null,
      "outputs": []
    },
    {
      "cell_type": "markdown",
      "source": [
        "26) Remove last object from list\n"
      ],
      "metadata": {
        "id": "bLWmjOLNyxEF"
      }
    },
    {
      "cell_type": "code",
      "source": [
        "lst = [1, 2, 3, 4]\n",
        "lst.pop()\n",
        "print(lst)  # [1, 2, 3]\n"
      ],
      "metadata": {
        "id": "57m0O1hfy4vg"
      },
      "execution_count": null,
      "outputs": []
    },
    {
      "cell_type": "markdown",
      "source": [
        "27) What is list1[-1] in [2, 33, 222, 14, 25]?\n",
        "list1[-1] returns the last element."
      ],
      "metadata": {
        "id": "p7kltc8lzCr7"
      }
    },
    {
      "cell_type": "code",
      "source": [
        "list1 = [2, 33, 222, 14, 25]\n",
        "print(list1[-1])  # 25\n"
      ],
      "metadata": {
        "id": "iwws2flzzHM0"
      },
      "execution_count": null,
      "outputs": []
    },
    {
      "cell_type": "markdown",
      "source": [
        "28) Difference between append() and extend()\n",
        "append() adds an entire object as one element.\n"
      ],
      "metadata": {
        "id": "bBDwkusrzgNc"
      }
    },
    {
      "cell_type": "code",
      "source": [
        "#extend() adds elements from another iterable individually.\n",
        "\n",
        "\n",
        "\n",
        "a = [1, 2]\n",
        "a.append([3, 4])  # [1, 2, [3, 4]]\n",
        "a = [1, 2]\n",
        "a.extend([3, 4])  # [1, 2, 3, 4]\n"
      ],
      "metadata": {
        "id": "H9eQgP2lzk4v"
      },
      "execution_count": null,
      "outputs": []
    },
    {
      "cell_type": "markdown",
      "source": [
        "29) Largest, smallest, and sum in a list\n"
      ],
      "metadata": {
        "id": "PXzjYJ400SZq"
      }
    },
    {
      "cell_type": "code",
      "source": [
        "def list_stats(lst):\n",
        "    return max(lst), min(lst), sum(lst)\n",
        "\n",
        "print(list_stats([4, 7, 2, 8]))  # (8, 2, 21)\n"
      ],
      "metadata": {
        "id": "1i4_hiD_0emI"
      },
      "execution_count": null,
      "outputs": []
    },
    {
      "cell_type": "markdown",
      "source": [
        "30) Compare two lists\n"
      ],
      "metadata": {
        "id": "uR9ia8Bo0oUk"
      }
    },
    {
      "cell_type": "code",
      "source": [
        "list1 = [1, 2, 3]\n",
        "list2 = [1, 2, 3]\n",
        "print(list1 == list2)"
      ],
      "metadata": {
        "id": "Vw--4PZP0x8q"
      },
      "execution_count": null,
      "outputs": []
    },
    {
      "cell_type": "markdown",
      "source": [
        "31) Count strings with length ≥2 and same first and last char"
      ],
      "metadata": {
        "id": "zd0EsyotTXrb"
      }
    },
    {
      "cell_type": "code",
      "source": [
        "def match_words(words):\n",
        "    return len([w for w in words if len(w) >= 2 and w[0] == w[-1]])\n",
        "\n",
        "print(match_words(['abc', 'xyz', 'aba', '1221']))"
      ],
      "metadata": {
        "id": "PdeA6zQTTlMV"
      },
      "execution_count": null,
      "outputs": []
    },
    {
      "cell_type": "markdown",
      "source": [
        "32) Remove duplicates from list\n"
      ],
      "metadata": {
        "id": "N_6mTvaiUEDz"
      }
    },
    {
      "cell_type": "code",
      "source": [
        "lst = [1, 2, 2, 3, 4, 4]\n",
        "print(list(set(lst)))  # [1, 2, 3, 4]\n"
      ],
      "metadata": {
        "id": "Y7cyF0hPUKfO"
      },
      "execution_count": null,
      "outputs": []
    },
    {
      "cell_type": "markdown",
      "source": [
        "33) Check if list is empty\n",
        "\n",
        "\n"
      ],
      "metadata": {
        "id": "DowA01-rUTxT"
      }
    },
    {
      "cell_type": "code",
      "source": [
        "lst = []\n",
        "print(\"Empty\" if not lst else \"Not empty\")"
      ],
      "metadata": {
        "id": "4Ka_zjBsUkLz"
      },
      "execution_count": null,
      "outputs": []
    },
    {
      "cell_type": "markdown",
      "source": [
        "34) Check if two lists have at least one common member\n"
      ],
      "metadata": {
        "id": "nJN0gMRqUEAa"
      }
    },
    {
      "cell_type": "code",
      "source": [
        "def common_member(a, b):\n",
        "    return bool(set(a) & set(b))\n",
        "\n",
        "print(common_member([1, 2, 3], [4, 5, 2]))"
      ],
      "metadata": {
        "id": "JQ3zof3oUsxm"
      },
      "execution_count": null,
      "outputs": []
    },
    {
      "cell_type": "markdown",
      "source": [
        "35) List of squares from 1-30: first and last 5\n"
      ],
      "metadata": {
        "id": "xM9Gq57cWFCX"
      }
    },
    {
      "cell_type": "code",
      "source": [
        "\n",
        "squares = [i**2 for i in range(1, 31)]\n",
        "print(squares[:5] + squares[-5:])\n",
        "# [1, 4, 9, 16, 25, 676, 729, 784, 841, 900]\n"
      ],
      "metadata": {
        "id": "sDvKrnXkWGQa"
      },
      "execution_count": null,
      "outputs": []
    },
    {
      "cell_type": "markdown",
      "source": [
        "36) Return unique elements from list"
      ],
      "metadata": {
        "id": "Zb0_XwCHYhZs"
      }
    },
    {
      "cell_type": "code",
      "source": [
        "def unique_list(lst):\n",
        "    return list(set(lst))\n",
        "\n",
        "print(unique_list([1, 2, 2, 3, 4, 4]))"
      ],
      "metadata": {
        "id": "cViiTAtAYozU"
      },
      "execution_count": null,
      "outputs": []
    },
    {
      "cell_type": "markdown",
      "source": [
        "37) Convert list of characters to string\n"
      ],
      "metadata": {
        "id": "m6EAFg6pY0gU"
      }
    },
    {
      "cell_type": "code",
      "source": [
        "chars = ['P', 'y', 't', 'h', 'o', 'n']\n",
        "print(''.join(chars))  # python"
      ],
      "metadata": {
        "id": "qSjUaDWkY5e8"
      },
      "execution_count": null,
      "outputs": []
    },
    {
      "cell_type": "markdown",
      "source": [
        "38) Select random item from list\n"
      ],
      "metadata": {
        "id": "9E-X8F47ZG9l"
      }
    },
    {
      "cell_type": "code",
      "source": [
        "import random\n",
        "lst = [1, 2, 3, 4, 5]\n",
        "print(random.choice(lst))"
      ],
      "metadata": {
        "id": "mP24oCCEZTfn"
      },
      "execution_count": null,
      "outputs": []
    },
    {
      "cell_type": "markdown",
      "source": [
        "39) Find second smallest number in a list\n"
      ],
      "metadata": {
        "id": "e817CnssZim9"
      }
    },
    {
      "cell_type": "code",
      "source": [
        "def second_smallest(lst):\n",
        "    return sorted(set(lst))[1]\n",
        "\n",
        "print(second_smallest([4, 1, 3, 2, 1]))  # 2\n"
      ],
      "metadata": {
        "id": "qayDQCWlZrZI"
      },
      "execution_count": null,
      "outputs": []
    },
    {
      "cell_type": "markdown",
      "source": [
        "40) Get unique values from list\n"
      ],
      "metadata": {
        "id": "xZy1bqiPZ2ur"
      }
    },
    {
      "cell_type": "code",
      "source": [
        "lst = [1, 2, 2, 3, 4, 4]\n",
        "unique = list(set(lst))\n",
        "print(unique)  # [1, 2, 3, 4]\n"
      ],
      "metadata": {
        "id": "P7VKgo1rZ7kT"
      },
      "execution_count": null,
      "outputs": []
    },
    {
      "cell_type": "markdown",
      "source": [
        "41) Write a Python program to check whether a list contains a sub list\n",
        "\n"
      ],
      "metadata": {
        "id": "ISZu2D0WuIif"
      }
    },
    {
      "cell_type": "code",
      "source": [
        "def is_sublist(main_list, sub_list):\n",
        "    for i in range(len(main_list) - len(sub_list) + 1):\n",
        "        if main_list[i:i+len(sub_list)] == sub_list:\n",
        "            return True\n",
        "    return False\n",
        "\n",
        "print(is_sublist([1, 2, 3, 4, 5], [2, 3]))  # Output: True\n"
      ],
      "metadata": {
        "id": "VgwhzLIOuRSD"
      },
      "execution_count": null,
      "outputs": []
    },
    {
      "cell_type": "markdown",
      "source": [
        "42) Write a Python program to split a list into different variables"
      ],
      "metadata": {
        "id": "ANc4LZH-ujoW"
      }
    },
    {
      "cell_type": "code",
      "source": [
        "my_list = [1, 2, 3]\n",
        "a, b, c = my_list\n",
        "print(a, b, c)  # Output: 1 2 3\n"
      ],
      "metadata": {
        "id": "hdTg5Cboup4v"
      },
      "execution_count": null,
      "outputs": []
    },
    {
      "cell_type": "markdown",
      "source": [
        "43) What is tuple? Difference between list and tuple.\n",
        "\n",
        "A tuple is an immutable sequence in Python.\n",
        "\n",
        "Difference:\n",
        "\n",
        "List: Mutable, defined with [].\n",
        "\n",
        "Tuple: Immutable, defined with ().\n",
        "\n",
        "\n",
        "\n",
        "---\n",
        "\n"
      ],
      "metadata": {
        "id": "skT1cGcLuy76"
      }
    },
    {
      "cell_type": "markdown",
      "source": [
        "44) Write a Python program to create a tuple with different data types\n"
      ],
      "metadata": {
        "id": "80gN2xqEvAAV"
      }
    },
    {
      "cell_type": "code",
      "source": [
        "sample_tuple = (25, \"Python\", 3.14, True)\n",
        "print(sample_tuple)\n"
      ],
      "metadata": {
        "id": "8nbSbEeju3js"
      },
      "execution_count": null,
      "outputs": []
    },
    {
      "cell_type": "markdown",
      "source": [
        "45) Write a Python program to unzip a list of tuples into individual lists\n"
      ],
      "metadata": {
        "id": "bI2Dbsl5vyQ3"
      }
    },
    {
      "cell_type": "code",
      "source": [
        "ist_of_tuples = [(1, 'a'), (2, 'b'), (3, 'c')]\n",
        "nums, chars = zip(*list_of_tuples)\n",
        "print(list(nums))   # [1, 2, 3]\n",
        "print(list(chars))  # ['a', 'b', 'c']\n"
      ],
      "metadata": {
        "id": "L-HEAuEYvx8Y"
      },
      "execution_count": null,
      "outputs": []
    },
    {
      "cell_type": "markdown",
      "source": [
        "46) Write a Python program to convert a list of tuples into a dictionary\n"
      ],
      "metadata": {
        "id": "697tVWoRv5Ci"
      }
    },
    {
      "cell_type": "code",
      "source": [
        "list_of_tuples = [(\"a\", 1), (\"b\", 2), (\"c\", 3)]\n",
        "my_dict = dict(list_of_tuples)\n",
        "print(my_dict)\n"
      ],
      "metadata": {
        "id": "D8gWR_AJwAlZ"
      },
      "execution_count": null,
      "outputs": []
    },
    {
      "cell_type": "markdown",
      "source": [
        "47) How will you create a dictionary using tuples in python?\n"
      ],
      "metadata": {
        "id": "lr2Wc5LRwFNG"
      }
    },
    {
      "cell_type": "code",
      "source": [
        "tuple1 = (\"name\", \"John\")\n",
        "tuple2 = (\"age\", 25)\n",
        "my_dict = dict([tuple1, tuple2])\n",
        "print(my_dict)"
      ],
      "metadata": {
        "id": "GReW1-YxwKoS"
      },
      "execution_count": null,
      "outputs": []
    },
    {
      "cell_type": "markdown",
      "source": [
        "48) Write a Python script to sort (ascending and descending) a dictionary by value\n"
      ],
      "metadata": {
        "id": "u6ym2JkGwQBC"
      }
    },
    {
      "cell_type": "code",
      "source": [
        "my_dict = {'a': 3, 'b': 1, 'c': 2}\n",
        "asc = dict(sorted(my_dict.items(), key=lambda x: x[1]))\n",
        "desc = dict(sorted(my_dict.items(), key=lambda x: x[1], reverse=True))\n",
        "print(asc)\n",
        "print(desc)"
      ],
      "metadata": {
        "id": "5eGh6DCBwSLE"
      },
      "execution_count": null,
      "outputs": []
    },
    {
      "cell_type": "markdown",
      "source": [
        "49) Write a Python script to concatenate following dictionaries to create a new one\n"
      ],
      "metadata": {
        "id": "s3nXk65ywcFa"
      }
    },
    {
      "cell_type": "code",
      "source": [
        "dict1 = {'a': 1}\n",
        "dict2 = {'b': 2}\n",
        "dict3 = {'c': 3}\n",
        "new_dict = {**dict1, **dict2, **dict3}\n",
        "print(new_dict)"
      ],
      "metadata": {
        "id": "6MjCdtzXwbyM"
      },
      "execution_count": null,
      "outputs": []
    },
    {
      "cell_type": "markdown",
      "source": [
        "50) Write a Python script to check if a given key already exists in a dictionary\n",
        "\n"
      ],
      "metadata": {
        "id": "XWnjXhJpwxC-"
      }
    },
    {
      "cell_type": "code",
      "source": [
        "my_dict = {'a': 1, 'b': 2}\n",
        "for key, value in my_dict.items():\n",
        "    print(key, value)\n"
      ],
      "metadata": {
        "id": "Zg_jxJIVw2N1"
      },
      "execution_count": null,
      "outputs": []
    },
    {
      "cell_type": "markdown",
      "source": [
        "51) How Do You Traverse Through a Dictionary Object in Python?\n",
        "\n"
      ],
      "metadata": {
        "id": "IOe0OaHWwowe"
      }
    },
    {
      "cell_type": "code",
      "source": [
        "my_dict = {'a': 1, 'b': 2}\n",
        "for key, value in my_dict.items():\n",
        "    print(key, value)"
      ],
      "metadata": {
        "id": "1ehls6tjwp0R"
      },
      "execution_count": null,
      "outputs": []
    },
    {
      "cell_type": "markdown",
      "source": [
        "52) How Do You Check the Presence of a Key in A Dictionary?\n",
        "\n"
      ],
      "metadata": {
        "id": "4k86lmNuwEw-"
      }
    },
    {
      "cell_type": "code",
      "source": [
        "my_dict = {'x': 10}\n",
        "print('x' in my_dict)"
      ],
      "metadata": {
        "colab": {
          "base_uri": "https://localhost:8080/"
        },
        "id": "hJEcxIYFwF-_",
        "outputId": "8dd1ba12-3972-4121-d540-77c3d7e1cfbb"
      },
      "execution_count": null,
      "outputs": [
        {
          "output_type": "stream",
          "name": "stdout",
          "text": [
            "True\n"
          ]
        }
      ]
    },
    {
      "cell_type": "markdown",
      "source": [
        "53) Write a Python script to print a dictionary where the keys are numbers between 1 and 15"
      ],
      "metadata": {
        "id": "CiZ08fCCwTQ0"
      }
    },
    {
      "cell_type": "code",
      "source": [
        "print({x: x**2 for x in range(1, 16)})\n"
      ],
      "metadata": {
        "colab": {
          "base_uri": "https://localhost:8080/"
        },
        "id": "q5-eZ2KSwb87",
        "outputId": "a0e31195-08a9-40d0-92a2-7aa1309f23d1"
      },
      "execution_count": null,
      "outputs": [
        {
          "output_type": "stream",
          "name": "stdout",
          "text": [
            "{1: 1, 2: 4, 3: 9, 4: 16, 5: 25, 6: 36, 7: 49, 8: 64, 9: 81, 10: 100, 11: 121, 12: 144, 13: 169, 14: 196, 15: 225}\n"
          ]
        }
      ]
    },
    {
      "cell_type": "markdown",
      "source": [
        "54) Write a Python program to check multiple keys exists in a dictionary\n"
      ],
      "metadata": {
        "id": "GBVOYza4wjqc"
      }
    },
    {
      "cell_type": "code",
      "source": [
        "my_dict = {'a': 1, 'b': 2, 'c': 3}\n",
        "keys = ['a', 'b']\n",
        "print(all(key in my_dict for key in keys))"
      ],
      "metadata": {
        "colab": {
          "base_uri": "https://localhost:8080/"
        },
        "id": "iFAIXAKJwn5U",
        "outputId": "e740175e-8d2a-4a1a-8d37-e5760c429a7a"
      },
      "execution_count": null,
      "outputs": [
        {
          "output_type": "stream",
          "name": "stdout",
          "text": [
            "True\n"
          ]
        }
      ]
    },
    {
      "cell_type": "markdown",
      "source": [
        "55) Write a Python script to merge two Python dictionaries\n",
        "\n"
      ],
      "metadata": {
        "id": "CGNxJCuUwuVr"
      }
    },
    {
      "cell_type": "code",
      "source": [
        "dict1 = {'a': 1}\n",
        "dict2 = {'b': 2}\n",
        "dict1.update(dict2)\n",
        "print(dict1)\n"
      ],
      "metadata": {
        "colab": {
          "base_uri": "https://localhost:8080/"
        },
        "id": "nsWkbtd9wyWD",
        "outputId": "74f060e5-f6e1-47c2-ff89-b739e74a5a8b"
      },
      "execution_count": null,
      "outputs": [
        {
          "output_type": "stream",
          "name": "stdout",
          "text": [
            "{'a': 1, 'b': 2}\n"
          ]
        }
      ]
    },
    {
      "cell_type": "markdown",
      "source": [
        "56) Write a Python program to map two lists into a dictionary\n",
        "\n"
      ],
      "metadata": {
        "id": "i7mpI6EIw5m6"
      }
    },
    {
      "cell_type": "code",
      "source": [
        "keys = ['a', 'b', 'c']\n",
        "values = [400, 400, 300]\n",
        "my_dict = dict(zip(keys, values))\n",
        "print(my_dict)\n"
      ],
      "metadata": {
        "colab": {
          "base_uri": "https://localhost:8080/"
        },
        "id": "Lx_bIGQVxAdK",
        "outputId": "8d0e45e6-5eec-4ca2-b237-1f597c717c54"
      },
      "execution_count": null,
      "outputs": [
        {
          "output_type": "stream",
          "name": "stdout",
          "text": [
            "{'a': 400, 'b': 400, 'c': 300}\n"
          ]
        }
      ]
    },
    {
      "cell_type": "markdown",
      "source": [
        "57) Write a Python program to find the highest 3 values in a dictionary"
      ],
      "metadata": {
        "id": "flO3YlUXxHiB"
      }
    },
    {
      "cell_type": "code",
      "source": [
        "from heapq import nlargest\n",
        "my_dict = {'a': 100, 'b': 200, 'c': 300, 'd': 400}\n",
        "top_3 = nlargest(3, my_dict.values())\n",
        "print(top_3)"
      ],
      "metadata": {
        "colab": {
          "base_uri": "https://localhost:8080/"
        },
        "id": "yxz0f7uqxLqO",
        "outputId": "da54292e-a01d-4d3c-daf7-04a7a6ec9665"
      },
      "execution_count": null,
      "outputs": [
        {
          "output_type": "stream",
          "name": "stdout",
          "text": [
            "[400, 300, 200]\n"
          ]
        }
      ]
    },
    {
      "cell_type": "markdown",
      "source": [
        "58) Write a Python program to combine values in python list of dictionaries"
      ],
      "metadata": {
        "id": "BTqHKREmxV3Y"
      }
    },
    {
      "cell_type": "code",
      "source": [
        "from collections import Counter\n",
        "data = [{'item': 'item1', 'amount': 400},\n",
        "        {'item': 'item2', 'amount': 300},\n",
        "        {'item': 'item1', 'amount': 750}]\n",
        "result = Counter()\n",
        "for d in data:\n",
        "    result[d['item']] += d['amount']\n",
        "print(result)"
      ],
      "metadata": {
        "colab": {
          "base_uri": "https://localhost:8080/"
        },
        "id": "HRAZQ-h7xac_",
        "outputId": "b1f082d4-59f7-487a-ca9d-c78c6bf3a5cd"
      },
      "execution_count": null,
      "outputs": [
        {
          "output_type": "stream",
          "name": "stdout",
          "text": [
            "Counter({'item1': 1150, 'item2': 300})\n"
          ]
        }
      ]
    },
    {
      "cell_type": "markdown",
      "source": [
        "59) Write a Python program to create a dictionary from a string. Track the count of the letters"
      ],
      "metadata": {
        "id": "8KDldfuCxnJu"
      }
    },
    {
      "cell_type": "code",
      "source": [
        "from collections import Counter\n",
        "s = \"w3resource\"\n",
        "count = Counter(s)\n",
        "print(dict(count))"
      ],
      "metadata": {
        "colab": {
          "base_uri": "https://localhost:8080/"
        },
        "id": "G1_ROz4YxppJ",
        "outputId": "1a89bc1f-7782-4519-8a13-fe7ca57d6f53"
      },
      "execution_count": null,
      "outputs": [
        {
          "output_type": "stream",
          "name": "stdout",
          "text": [
            "{'w': 1, '3': 1, 'r': 2, 'e': 2, 's': 1, 'o': 1, 'u': 1, 'c': 1}\n"
          ]
        }
      ]
    },
    {
      "cell_type": "markdown",
      "source": [
        "60) Sample string: 'w3resource' Expected output: {'3': 1,’s’: 1, 'r': 2, 'u': 1, 'w': 1, 'c': 1, 'e': 2, 'o': 1}\n",
        "\n"
      ],
      "metadata": {
        "id": "o1_1ccNIxx5x"
      }
    },
    {
      "cell_type": "code",
      "source": [
        "from collections import Counter\n",
        "s = 'w3resource'\n",
        "print(dict(Counter(s)))"
      ],
      "metadata": {
        "id": "1alS57dbx3f5"
      },
      "execution_count": null,
      "outputs": []
    },
    {
      "cell_type": "markdown",
      "source": [
        "Q61) Write a Python function to calculate the factorial of a number (a nonnegative integer):"
      ],
      "metadata": {
        "id": "M1tXA_z9yGE2"
      }
    },
    {
      "cell_type": "code",
      "source": [
        "def factorial(n):\n",
        "    if n == 0:\n",
        "        return 1\n",
        "    else:\n",
        "        return n * factorial(n - 1)\n"
      ],
      "metadata": {
        "id": "nYl7F77xyMQO"
      },
      "execution_count": null,
      "outputs": []
    },
    {
      "cell_type": "markdown",
      "source": [
        "Q62) Write a Python function to check whether a number is in a given range:\n"
      ],
      "metadata": {
        "id": "F_2m6Jjm19lu"
      }
    },
    {
      "cell_type": "code",
      "source": [
        "def in_range(num, start, end):\n",
        "    return start <= num <= end\n"
      ],
      "metadata": {
        "id": "aU0X0Z9k2B-w"
      },
      "execution_count": null,
      "outputs": []
    },
    {
      "cell_type": "markdown",
      "source": [
        "Q63) Write a Python function to check whether a number is perfect or not:\n"
      ],
      "metadata": {
        "id": "KKk55oET2NPP"
      }
    },
    {
      "cell_type": "code",
      "source": [
        "def is_perfect(n):\n",
        "    return n == sum(i for i in range(1, n) if n % i == 0)\n"
      ],
      "metadata": {
        "id": "-nz_Miva2TD4"
      },
      "execution_count": null,
      "outputs": []
    },
    {
      "cell_type": "markdown",
      "source": [
        "Q64) Write a Python function that checks whether a passed string is palindrome or not:\n",
        "\n"
      ],
      "metadata": {
        "id": "4ibvMAmr2ZsE"
      }
    },
    {
      "cell_type": "code",
      "source": [
        "def is_palindrome(s):\n",
        "    return s == s[::-1]\n"
      ],
      "metadata": {
        "id": "FJeT-FrU2fVE"
      },
      "execution_count": null,
      "outputs": []
    },
    {
      "cell_type": "markdown",
      "source": [],
      "metadata": {
        "id": "hSlRPyrc2ld0"
      }
    },
    {
      "cell_type": "markdown",
      "source": [
        "Q65) How Many Basic Types of Functions Are Available in Python?\n",
        "\n",
        "Built-in Functions\n",
        "\n",
        "User-defined Functions\n",
        "\n",
        "Lambda Functions\n",
        "\n",
        "Recursive Functions\n"
      ],
      "metadata": {
        "id": "eRPSiW-f5hRe"
      }
    },
    {
      "cell_type": "markdown",
      "source": [
        "Q66) How can you pick a random item from a list or tuple?\n",
        "\n"
      ],
      "metadata": {
        "id": "yNi1sbiQ50Sv"
      }
    },
    {
      "cell_type": "code",
      "source": [
        "import random\n",
        "random.choice(['a', 'b', 'c'])\n"
      ],
      "metadata": {
        "id": "ER0DQYG15mPk"
      },
      "execution_count": null,
      "outputs": []
    },
    {
      "cell_type": "markdown",
      "source": [
        "Q67) How can you pick a random item from a range?\n"
      ],
      "metadata": {
        "id": "G4bch5lpCIKS"
      }
    },
    {
      "cell_type": "code",
      "source": [
        "import random\n",
        "random.choice(range(1, 10))\n"
      ],
      "metadata": {
        "id": "vQldjUmTCJtG"
      },
      "execution_count": null,
      "outputs": []
    },
    {
      "cell_type": "markdown",
      "source": [
        "Q68) How can you get a random number in python?\n",
        "\n"
      ],
      "metadata": {
        "id": "412va-gP8xeH"
      }
    },
    {
      "cell_type": "code",
      "source": [
        "import random\n",
        "random.randint(1, 100)\n"
      ],
      "metadata": {
        "colab": {
          "base_uri": "https://localhost:8080/"
        },
        "id": "JCizMXJK83kQ",
        "outputId": "a66d0eac-edb1-46aa-c8cd-9c6b8a0a03a8"
      },
      "execution_count": null,
      "outputs": [
        {
          "output_type": "execute_result",
          "data": {
            "text/plain": [
              "31"
            ]
          },
          "metadata": {},
          "execution_count": 1
        }
      ]
    },
    {
      "cell_type": "markdown",
      "source": [
        "Q69) How will you set the starting value in generating random numbers?\n"
      ],
      "metadata": {
        "id": "QwpfkAFF89pz"
      }
    },
    {
      "cell_type": "code",
      "source": [
        "import random\n",
        "random.seed(10)\n"
      ],
      "metadata": {
        "id": "f28dRB3x9FGO"
      },
      "execution_count": null,
      "outputs": []
    },
    {
      "cell_type": "markdown",
      "source": [
        "Q70) How will you randomize the items of a list in place?\n",
        "\n"
      ],
      "metadata": {
        "id": "e0rIkxjs9NkI"
      }
    },
    {
      "cell_type": "code",
      "source": [
        "with open('file.txt' 'r') as f:\n",
        "    print(f.read())"
      ],
      "metadata": {
        "colab": {
          "base_uri": "https://localhost:8080/",
          "height": 158
        },
        "id": "wRHH36EB9sOX",
        "outputId": "38031196-e6d6-4825-beb5-0437f1475bd4"
      },
      "execution_count": null,
      "outputs": [
        {
          "output_type": "error",
          "ename": "FileNotFoundError",
          "evalue": "[Errno 2] No such file or directory: 'file.txtr'",
          "traceback": [
            "\u001b[0;31m---------------------------------------------------------------------------\u001b[0m",
            "\u001b[0;31mFileNotFoundError\u001b[0m                         Traceback (most recent call last)",
            "\u001b[0;32m/tmp/ipython-input-16-2407587453.py\u001b[0m in \u001b[0;36m<cell line: 0>\u001b[0;34m()\u001b[0m\n\u001b[0;32m----> 1\u001b[0;31m \u001b[0;32mwith\u001b[0m \u001b[0mopen\u001b[0m\u001b[0;34m(\u001b[0m\u001b[0;34m'file.txt'\u001b[0m \u001b[0;34m'r'\u001b[0m\u001b[0;34m)\u001b[0m \u001b[0;32mas\u001b[0m \u001b[0mf\u001b[0m\u001b[0;34m:\u001b[0m\u001b[0;34m\u001b[0m\u001b[0;34m\u001b[0m\u001b[0m\n\u001b[0m\u001b[1;32m      2\u001b[0m     \u001b[0mprint\u001b[0m\u001b[0;34m(\u001b[0m\u001b[0mf\u001b[0m\u001b[0;34m.\u001b[0m\u001b[0mread\u001b[0m\u001b[0;34m(\u001b[0m\u001b[0;34m)\u001b[0m\u001b[0;34m)\u001b[0m\u001b[0;34m\u001b[0m\u001b[0;34m\u001b[0m\u001b[0m\n",
            "\u001b[0;31mFileNotFoundError\u001b[0m: [Errno 2] No such file or directory: 'file.txtr'"
          ]
        }
      ]
    },
    {
      "cell_type": "code",
      "source": [
        "import random\n",
        "lst = [1, 2, 3, 4, 5]\n",
        "random.shuffle(lst)"
      ],
      "metadata": {
        "id": "6_in3KsP9Pau"
      },
      "execution_count": null,
      "outputs": []
    },
    {
      "cell_type": "markdown",
      "source": [
        "Q71) What is File function in python? What are keywords to create and write file?"
      ],
      "metadata": {
        "id": "8zYOBZiR9WY4"
      }
    },
    {
      "cell_type": "code",
      "source": [
        "File functions: open(), read(), write(), close()\n",
        "\n",
        "Keywords: 'w' (write), 'a' (append), 'r' (read), 'x' (create)"
      ],
      "metadata": {
        "colab": {
          "base_uri": "https://localhost:8080/",
          "height": 106
        },
        "collapsed": true,
        "id": "pr9BuXEq9dD1",
        "outputId": "640fb261-f5c1-421e-b982-9142d6ac31a0"
      },
      "execution_count": null,
      "outputs": [
        {
          "output_type": "error",
          "ename": "SyntaxError",
          "evalue": "invalid syntax (ipython-input-15-3634922707.py, line 1)",
          "traceback": [
            "\u001b[0;36m  File \u001b[0;32m\"/tmp/ipython-input-15-3634922707.py\"\u001b[0;36m, line \u001b[0;32m1\u001b[0m\n\u001b[0;31m    File functions: open(), read(), write(), close()\u001b[0m\n\u001b[0m         ^\u001b[0m\n\u001b[0;31mSyntaxError\u001b[0m\u001b[0;31m:\u001b[0m invalid syntax\n"
          ]
        }
      ]
    },
    {
      "cell_type": "markdown",
      "source": [
        "Q72) Write a Python program to read an entire text file:\n",
        "\n"
      ],
      "metadata": {
        "id": "zp6XhTrn9gDo"
      }
    },
    {
      "cell_type": "code",
      "source": [
        "with open('file.txt', 'r') as f:\n",
        "    print(f.read())"
      ],
      "metadata": {
        "colab": {
          "base_uri": "https://localhost:8080/"
        },
        "id": "A0KUdKmZ-J4a",
        "outputId": "efd2cce0-71cc-4d14-c097-1009e6b6bae1"
      },
      "execution_count": null,
      "outputs": [
        {
          "output_type": "stream",
          "name": "stdout",
          "text": [
            "This is a sample file.\n"
          ]
        }
      ]
    },
    {
      "cell_type": "markdown",
      "source": [
        "\n",
        "Q73) Write a Python program to append text to a file and display the text:"
      ],
      "metadata": {
        "id": "4LAljK-r-rlM"
      }
    },
    {
      "cell_type": "code",
      "source": [
        "with open('file.txt', 'a') as f:\n",
        "    f.write(\"New text\\n\")\n",
        "\n",
        "with open('file.txt', 'r') as f:\n",
        "    print(f.read())"
      ],
      "metadata": {
        "colab": {
          "base_uri": "https://localhost:8080/"
        },
        "id": "4gl43cwX-utq",
        "outputId": "724f3a22-8ac9-44e7-e742-84264764dc98"
      },
      "execution_count": null,
      "outputs": [
        {
          "output_type": "stream",
          "name": "stdout",
          "text": [
            "This is a sample file.New text\n",
            "New text\n",
            "New text\n",
            "New text\n",
            "\n"
          ]
        }
      ]
    },
    {
      "cell_type": "markdown",
      "source": [
        "Q74) Write a Python program to read first n lines of a file:\n"
      ],
      "metadata": {
        "id": "nVv6bFTL_BcJ"
      }
    },
    {
      "cell_type": "code",
      "source": [
        "def read_first_n_lines(filename, n):\n",
        "    with open(filename) as f:\n",
        "        for i in range(n):\n",
        "            print(f.readline(), end='')"
      ],
      "metadata": {
        "id": "K22canPA-30F"
      },
      "execution_count": null,
      "outputs": []
    },
    {
      "cell_type": "markdown",
      "source": [
        "Q75) Write a Python program to read last n lines of a file:\n",
        "\n"
      ],
      "metadata": {
        "id": "_fXIUEdl_M9S"
      }
    },
    {
      "cell_type": "code",
      "source": [
        "from collections import deque\n",
        "def read_last_n_lines(filename, n):\n",
        "    with open(filename) as f:\n",
        "        print(''.join(deque(f, n)))"
      ],
      "metadata": {
        "id": "kBD3Yyli-314"
      },
      "execution_count": null,
      "outputs": []
    },
    {
      "cell_type": "markdown",
      "source": [
        "Q76) Write a Python program to read a file line by line and store it into a list:"
      ],
      "metadata": {
        "id": "lkP4RpUV_iS_"
      }
    },
    {
      "cell_type": "code",
      "source": [
        "with open('file.txt') as f:\n",
        "    lines = f.readlines()"
      ],
      "metadata": {
        "id": "o-CXFORo_ny4"
      },
      "execution_count": null,
      "outputs": []
    },
    {
      "cell_type": "markdown",
      "source": [
        "Q77) Write a Python program to read a file line by line store it into a variable:"
      ],
      "metadata": {
        "id": "mCmTxocx_WEm"
      }
    },
    {
      "cell_type": "code",
      "source": [
        "with open('file.txt') as f:\n",
        "    data = f.read()"
      ],
      "metadata": {
        "id": "z9eJFE3X_gRX"
      },
      "execution_count": null,
      "outputs": []
    },
    {
      "cell_type": "markdown",
      "source": [
        "Q78) Write a Python program to find the longest words:\n",
        "\n"
      ],
      "metadata": {
        "id": "8OWJnKYr_w-t"
      }
    },
    {
      "cell_type": "code",
      "source": [
        "def longest_words(filename):\n",
        "    with open(filename) as f:\n",
        "        words = f.read().split()\n",
        "        max_len = max(len(word) for word in words)\n",
        "        return [word for word in words if len(word) == max_len]"
      ],
      "metadata": {
        "id": "C2k1NBLN_wps"
      },
      "execution_count": null,
      "outputs": []
    },
    {
      "cell_type": "markdown",
      "source": [
        "Q79) Write a Python program to count the number of lines in a text file:"
      ],
      "metadata": {
        "id": "g3oMVoPS_9DL"
      }
    },
    {
      "cell_type": "code",
      "source": [
        "with open('file.txt') as f:\n",
        "    line_count = sum(1 for _ in f)"
      ],
      "metadata": {
        "id": "K3qemfiGACBE"
      },
      "execution_count": null,
      "outputs": []
    },
    {
      "cell_type": "markdown",
      "source": [
        "Q80) Write a Python program to count the frequency of words in a file:"
      ],
      "metadata": {
        "id": "f03cA45fAHvy"
      }
    },
    {
      "cell_type": "code",
      "source": [
        "from collections import Counter\n",
        "with open('file.txt') as f:\n",
        "    word_freq = Counter(f.read().split())\n",
        "    print(word_freq)"
      ],
      "metadata": {
        "colab": {
          "base_uri": "https://localhost:8080/"
        },
        "id": "_0OA0XyRALQL",
        "outputId": "7a1b712b-6f0e-4139-cbb1-125686e0eb80"
      },
      "execution_count": null,
      "outputs": [
        {
          "output_type": "stream",
          "name": "stdout",
          "text": [
            "Counter({'text': 4, 'New': 3, 'This': 1, 'is': 1, 'a': 1, 'sample': 1, 'file.New': 1})\n"
          ]
        }
      ]
    },
    {
      "cell_type": "markdown",
      "source": [
        "Q81) Write a Python program to write a list to a file.\n",
        "\n"
      ],
      "metadata": {
        "id": "XwHEfRdTAUjM"
      }
    },
    {
      "cell_type": "code",
      "source": [
        "my_list = ['apple', 'banana', 'cherry']\n",
        "\n",
        "with open('output.txt', 'w') as file:\n",
        "    for item in my_list:\n",
        "        file.write(f\"{item}\\n\")"
      ],
      "metadata": {
        "id": "C5c7KrOsAXgq"
      },
      "execution_count": null,
      "outputs": []
    },
    {
      "cell_type": "markdown",
      "source": [
        "Q82) Write a Python program to copy the contents of a file to another file."
      ],
      "metadata": {
        "id": "Wg2EOr4WAecz"
      }
    },
    {
      "cell_type": "code",
      "source": [
        "with open('source.txt', 'r') as source:\n",
        "    contents = source.read()"
      ],
      "metadata": {
        "colab": {
          "base_uri": "https://localhost:8080/",
          "height": 158
        },
        "id": "AzZX_cnLAlC4",
        "outputId": "8573dd29-4249-48f7-ba60-505da63b2faf"
      },
      "execution_count": null,
      "outputs": [
        {
          "output_type": "error",
          "ename": "FileNotFoundError",
          "evalue": "[Errno 2] No such file or directory: 'source.txt'",
          "traceback": [
            "\u001b[0;31m---------------------------------------------------------------------------\u001b[0m",
            "\u001b[0;31mFileNotFoundError\u001b[0m                         Traceback (most recent call last)",
            "\u001b[0;32m/tmp/ipython-input-36-4169189535.py\u001b[0m in \u001b[0;36m<cell line: 0>\u001b[0;34m()\u001b[0m\n\u001b[0;32m----> 1\u001b[0;31m \u001b[0;32mwith\u001b[0m \u001b[0mopen\u001b[0m\u001b[0;34m(\u001b[0m\u001b[0;34m'source.txt'\u001b[0m\u001b[0;34m,\u001b[0m \u001b[0;34m'r'\u001b[0m\u001b[0;34m)\u001b[0m \u001b[0;32mas\u001b[0m \u001b[0msource\u001b[0m\u001b[0;34m:\u001b[0m\u001b[0;34m\u001b[0m\u001b[0;34m\u001b[0m\u001b[0m\n\u001b[0m\u001b[1;32m      2\u001b[0m     \u001b[0mcontents\u001b[0m \u001b[0;34m=\u001b[0m \u001b[0msource\u001b[0m\u001b[0;34m.\u001b[0m\u001b[0mread\u001b[0m\u001b[0;34m(\u001b[0m\u001b[0;34m)\u001b[0m\u001b[0;34m\u001b[0m\u001b[0;34m\u001b[0m\u001b[0m\n",
            "\u001b[0;31mFileNotFoundError\u001b[0m: [Errno 2] No such file or directory: 'source.txt'"
          ]
        }
      ]
    },
    {
      "cell_type": "markdown",
      "source": [
        "Q83) Explain Exception handling? What is an Error in Python?\n",
        "\n",
        "Exception handling in Python allows you to handle runtime errors so the normal flow of the program can be maintained.\n",
        "An error in Python can be a syntax error (mistakes in code structure) or an exception (unexpected issues during execution like division by zero, file not found, etc.)."
      ],
      "metadata": {
        "id": "911PHbYVAs2s"
      }
    },
    {
      "cell_type": "markdown",
      "source": [
        "Q84) How many except statements can a try-except block have?\n",
        "\n",
        " Name some built-in exception classes:\n",
        "You can have multiple except blocks in a try-except structure.\n",
        "Some built-in exception classes include:\n",
        "\n",
        "ZeroDivisionError\n",
        "\n",
        "FileNotFoundError\n",
        "\n",
        "ValueError\n",
        "\n",
        "IndexError\n",
        "\n",
        "TypeError:"
      ],
      "metadata": {
        "id": "AFpQ2ReoAXAY"
      }
    },
    {
      "cell_type": "markdown",
      "source": [
        "Q85) When will the else part of try-except-else be executed?\n",
        "\n",
        "The else block is executed only if no exception occurs in the try block.\n",
        "\n",
        "Q86) Can one block of except statements handle multiple exceptions?\n",
        "\n",
        "Yes, you can handle multiple exceptions in a single except block using a tuple:\n",
        "\n",
        "    # some code\n",
        "except (ValueError, TypeError) as e:\n",
        "    print(f\"An error occurred: {e}\")\n",
        "\n",
        "Q87) When is the finally block executed?\n",
        "\n",
        "The finally block is always executed, whether an exception occurs or not.\n",
        "\n",
        "Q88) What happens when ‘1’ == 1 is executed?\n",
        "\n",
        "It returns False because one is a string and the other is an integer, and Python does not automatically convert them for equality comparison.\n"
      ],
      "metadata": {
        "id": "VItWc7G9BPdo"
      }
    },
    {
      "cell_type": "markdown",
      "source": [
        "Q89) How Do You Handle Exceptions with Try/Except/Finally in Python? Explain with coding snippets."
      ],
      "metadata": {
        "id": "ygZsWg9PBPmQ"
      }
    },
    {
      "cell_type": "code",
      "source": [
        "num = int(input(\"Enter a number: \"))\n",
        "    result = 10 / num\n",
        "except ZeroDivisionError:\n",
        "    print(\"You cannot divide by zero.\")\n",
        "except ValueError:\n",
        "    print(\"Invalid input! Please enter a number.\")\n",
        "else:\n",
        "    print(f\"Result is: {result}\")\n",
        "finally:\n",
        " print(\"Execution complete.\")"
      ],
      "metadata": {
        "colab": {
          "base_uri": "https://localhost:8080/",
          "height": 106
        },
        "id": "-gv5EnPVFZ96",
        "outputId": "bcfbd8f0-5543-47fd-fc33-7e41b252949b"
      },
      "execution_count": null,
      "outputs": [
        {
          "output_type": "error",
          "ename": "IndentationError",
          "evalue": "unexpected indent (ipython-input-38-3722851420.py, line 2)",
          "traceback": [
            "\u001b[0;36m  File \u001b[0;32m\"/tmp/ipython-input-38-3722851420.py\"\u001b[0;36m, line \u001b[0;32m2\u001b[0m\n\u001b[0;31m    result = 10 / num\u001b[0m\n\u001b[0m    ^\u001b[0m\n\u001b[0;31mIndentationError\u001b[0m\u001b[0;31m:\u001b[0m unexpected indent\n"
          ]
        }
      ]
    },
    {
      "cell_type": "markdown",
      "source": [
        "Q90) Write python program that user to enter only odd numbers, else will raise an exception."
      ],
      "metadata": {
        "id": "QQs8BhbFFmvG"
      }
    },
    {
      "cell_type": "code",
      "source": [
        "num = int(input(\"Enter an odd number: \"))\n",
        "    if num % 2 == 0:\n",
        "        raise ValueError(\"That is not an odd number!\")\n",
        "    print(\"Thank you for entering an odd number.\")\n",
        "except ValueError as e:\n",
        "    print(e)\n",
        "\n"
      ],
      "metadata": {
        "colab": {
          "base_uri": "https://localhost:8080/",
          "height": 106
        },
        "id": "sVnlOnPlFrO8",
        "outputId": "4ae96025-6edb-4438-ca6e-8730145a9fe8"
      },
      "execution_count": null,
      "outputs": [
        {
          "output_type": "error",
          "ename": "IndentationError",
          "evalue": "unexpected indent (ipython-input-39-1221192545.py, line 2)",
          "traceback": [
            "\u001b[0;36m  File \u001b[0;32m\"/tmp/ipython-input-39-1221192545.py\"\u001b[0;36m, line \u001b[0;32m2\u001b[0m\n\u001b[0;31m    if num % 2 == 0:\u001b[0m\n\u001b[0m    ^\u001b[0m\n\u001b[0;31mIndentationError\u001b[0m\u001b[0;31m:\u001b[0m unexpected indent\n"
          ]
        }
      ]
    },
    {
      "cell_type": "markdown",
      "source": [],
      "metadata": {
        "id": "IiDcs5n7Fg0G"
      }
    }
  ]
}